{
 "cells": [
  {
   "cell_type": "code",
   "execution_count": 51,
   "id": "4446ce42",
   "metadata": {},
   "outputs": [
    {
     "name": "stdout",
     "output_type": "stream",
     "text": [
      "I'm studying Python with Beetroot & I'm enjoying it so far :)\n",
      "\n",
      "Second print statement\n"
     ]
    }
   ],
   "source": [
    "#printing two statements with & separator and ending with a smiley + second print statement \n",
    "print(\"I'm studying Python with Beetroot\", \"I'm enjoying it so far\", sep=' & ', end=' :)')\n",
    "print('\\n\\nSecond print statement')"
   ]
  },
  {
   "cell_type": "code",
   "execution_count": 50,
   "id": "145ed8a4",
   "metadata": {},
   "outputs": [
    {
     "name": "stdout",
     "output_type": "stream",
     "text": [
      "######### \n",
      "\n",
      "# \t# \n",
      "\n",
      "# \t# \n",
      "\n",
      "# \t# \n",
      "\n",
      "#########\n",
      "\n",
      "\n",
      "# \t# \n",
      "\n",
      "# \t# \n",
      "\n",
      "######### \n",
      "\n",
      "# \t# \n",
      "\n",
      "# \t#\n"
     ]
    }
   ],
   "source": [
    "print(9*\"#\", \"\\n\\n#\", \"\\t#\",\"\\n\\n#\", \"\\t#\",\"\\n\\n#\", \"\\t#\", \"\\n\\n#\"+8*\"#\")\n",
    "print(\"\\n\\n#\", \"\\t#\",\"\\n\\n#\", \"\\t#\",\"\\n\\n#\"+8*\"#\",\"\\n\\n#\", \"\\t#\",\"\\n\\n#\", \"\\t#\")"
   ]
  },
  {
   "cell_type": "code",
   "execution_count": null,
   "id": "18818cd7",
   "metadata": {},
   "outputs": [],
   "source": []
  }
 ],
 "metadata": {
  "kernelspec": {
   "display_name": "Python 3 (ipykernel)",
   "language": "python",
   "name": "python3"
  },
  "language_info": {
   "codemirror_mode": {
    "name": "ipython",
    "version": 3
   },
   "file_extension": ".py",
   "mimetype": "text/x-python",
   "name": "python",
   "nbconvert_exporter": "python",
   "pygments_lexer": "ipython3",
   "version": "3.9.13"
  }
 },
 "nbformat": 4,
 "nbformat_minor": 5
}
